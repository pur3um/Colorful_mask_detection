{
 "cells": [
  {
   "cell_type": "code",
   "execution_count": 9,
   "metadata": {},
   "outputs": [
    {
     "name": "stdout",
     "output_type": "stream",
     "text": [
      "Requirement already satisfied: imutils in c:\\users\\inje.jeong\\anaconda3\\envs\\tf2\\lib\\site-packages (0.5.4)\n",
      "Requirement already satisfied: opencv-python in c:\\users\\inje.jeong\\anaconda3\\envs\\tf2\\lib\\site-packages (4.5.1.48)\n",
      "Collecting progress\n",
      "  Downloading progress-1.5.tar.gz (5.8 kB)\n",
      "Requirement already satisfied: numpy>=1.14.5 in c:\\users\\inje.jeong\\anaconda3\\envs\\tf2\\lib\\site-packages (from opencv-python) (1.19.1)\n",
      "Building wheels for collected packages: progress\n",
      "  Building wheel for progress (setup.py): started\n",
      "  Building wheel for progress (setup.py): finished with status 'done'\n",
      "  Created wheel for progress: filename=progress-1.5-py3-none-any.whl size=8073 sha256=8ff15c57cd1a7d397368fabf5986d522221e75ae7e91505ae689d4279e68fe7b\n",
      "  Stored in directory: c:\\users\\inje.jeong\\appdata\\local\\pip\\cache\\wheels\\4c\\ff\\85\\0cabf2cb317421028ef98853ae5c8d84c31f3e4e11862ea977\n",
      "Successfully built progress\n",
      "Installing collected packages: progress\n",
      "Successfully installed progress-1.5\n"
     ]
    }
   ],
   "source": [
    "!pip install imutils opencv-python progress"
   ]
  },
  {
   "cell_type": "code",
   "execution_count": 13,
   "metadata": {},
   "outputs": [],
   "source": [
    "from vidstab import VidStab\n",
    "\n",
    "# Using defaults\n",
    "stabilizer = VidStab()\n",
    "stabilizer.stabilize(input_path='KakaoTalk_20210502_222742797.mp4', output_path='stable_video.avi')\n",
    "\n",
    "# Using a specific keypoint detector\n",
    "stabilizer = VidStab(kp_method='ORB')\n",
    "stabilizer.stabilize(input_path='KakaoTalk_20210502_222742797.mp4', output_path='stable_video.avi')\n",
    "\n",
    "# Using a specific keypoint detector and customizing keypoint parameters\n",
    "stabilizer = VidStab(kp_method='FAST', threshold=42, nonmaxSuppression=False)\n",
    "stabilizer.stabilize(input_path='KakaoTalk_20210502_222742797.mp4', output_path='stable_video.avi')"
   ]
  }
 ],
 "metadata": {
  "kernelspec": {
   "display_name": "Python 3",
   "language": "python",
   "name": "python3"
  },
  "language_info": {
   "codemirror_mode": {
    "name": "ipython",
    "version": 3
   },
   "file_extension": ".py",
   "mimetype": "text/x-python",
   "name": "python",
   "nbconvert_exporter": "python",
   "pygments_lexer": "ipython3",
   "version": "3.7.10"
  }
 },
 "nbformat": 4,
 "nbformat_minor": 4
}
